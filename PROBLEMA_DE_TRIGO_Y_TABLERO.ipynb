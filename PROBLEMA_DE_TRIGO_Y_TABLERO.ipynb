{
  "cells": [
    {
      "cell_type": "markdown",
      "metadata": {
        "id": "view-in-github",
        "colab_type": "text"
      },
      "source": [
        "<a href=\"https://colab.research.google.com/github/Neuron-Automation/for-git-study/blob/master/PROBLEMA_DE_TRIGO_Y_TABLERO.ipynb\" target=\"_parent\"><img src=\"https://colab.research.google.com/assets/colab-badge.svg\" alt=\"Open In Colab\"/></a>"
      ]
    },
    {
      "cell_type": "markdown",
      "source": [
        "NEURON AUTOMATION, TASK SOLVED"
      ],
      "metadata": {
        "id": "gUebPTeXIINI"
      }
    },
    {
      "cell_type": "markdown",
      "metadata": {
        "id": "PjzclzSlOc7S"
      },
      "source": [
        "Problema 1] Número de trigo en un tablero de ajedrez 2 x 2\n",
        "Exprese el tablero de ajedrez de 2 × 2 celdas por ndarray y calcule el número de trigo en cada celda. Después de colocar un trigo en la trucha superior izquierda, proceda a la derecha con dos, la inferior izquierda con cuatro y la inferior derecha con ocho.\n",
        "\n",
        "Modifique la forma del ndarray creado en el código de muestra."
      ]
    },
    {
      "cell_type": "code",
      "execution_count": 1,
      "metadata": {
        "colab": {
          "base_uri": "https://localhost:8080/"
        },
        "id": "YbjtMkbVgxe_",
        "outputId": "8a3b5852-3020-4e92-e639-e790f9865b9f"
      },
      "outputs": [
        {
          "output_type": "stream",
          "name": "stdout",
          "text": [
            "[[1 2]\n",
            " [4 8]]\n"
          ]
        }
      ],
      "source": [
        "import numpy as np\n",
        "#crear el array\n",
        "n_squares=4\n",
        "square_list=[1]\n",
        "for _ in range (n_squares-1):\n",
        "\n",
        "   square_list.append(2 * square_list[-1])\n",
        "   square_list_array=np.array(square_list)\n",
        "\n",
        "board=square_list_array.reshape(2, 2)\n",
        "\n",
        "print(board)\n"
      ]
    },
    {
      "cell_type": "markdown",
      "metadata": {
        "id": "LNMBaHf5cj_z"
      },
      "source": [
        "[Problema 2] Expansión a masa n × m\n",
        "Cree una función que devuelva un ndarray que contenga la cantidad de trigo en un tablero de ajedrez nxm. Luego, usa esta función para encontrar la cantidad de trigo en el tablero de ajedrez cuadrado de 8x8.\n",
        "\n"
      ]
    },
    {
      "cell_type": "code",
      "execution_count": 3,
      "metadata": {
        "id": "zL_arGZ1cja1"
      },
      "outputs": [],
      "source": [
        "import numpy as np\n",
        "\n",
        "def boardnxm(n, m):\n",
        "  \"\"\"\n",
        "  Crea un ndarray de n x m con la cantidad de trigo en cada casilla.\n",
        "  \"\"\"\n",
        "  num_casillas = n * m\n",
        "  indices = np.arange(num_casillas)\n",
        "  tablero_trigo = 2 ** indices\n",
        "  return tablero_trigo.reshape(n, m)\n"
      ]
    },
    {
      "cell_type": "markdown",
      "metadata": {
        "id": "d9qSjvMrNsJB"
      },
      "source": [
        "[Problema 3] Número total de trigo\n",
        "Encuentra el número total de trigo en un tablero de ajedrez de 8 x 8 cuadrados. Además, encuentre el promedio de cada columna y visualícelo en un gráfico de barras.\n",
        "\n",
        "El código de muestra está disponible para gráficos de barras."
      ]
    },
    {
      "cell_type": "code",
      "execution_count": 4,
      "metadata": {
        "colab": {
          "base_uri": "https://localhost:8080/"
        },
        "id": "3h_V41FMLZGI",
        "outputId": "405bf528-48fe-4713-f100-fcdd3106d3fc"
      },
      "outputs": [
        {
          "output_type": "stream",
          "name": "stdout",
          "text": [
            "Tablero de ajedrez 8x8 con el número de granos de trigo:\n",
            "[[                   1                    2                    4\n",
            "                     8                   16                   32\n",
            "                    64                  128]\n",
            " [                 256                  512                 1024\n",
            "                  2048                 4096                 8192\n",
            "                 16384                32768]\n",
            " [               65536               131072               262144\n",
            "                524288              1048576              2097152\n",
            "               4194304              8388608]\n",
            " [            16777216             33554432             67108864\n",
            "             134217728            268435456            536870912\n",
            "            1073741824           2147483648]\n",
            " [          4294967296           8589934592          17179869184\n",
            "           34359738368          68719476736         137438953472\n",
            "          274877906944         549755813888]\n",
            " [       1099511627776        2199023255552        4398046511104\n",
            "         8796093022208       17592186044416       35184372088832\n",
            "        70368744177664      140737488355328]\n",
            " [     281474976710656      562949953421312     1125899906842624\n",
            "      2251799813685248     4503599627370496     9007199254740992\n",
            "     18014398509481984    36028797018963968]\n",
            " [   72057594037927936   144115188075855872   288230376151711744\n",
            "    576460752303423488  1152921504606846976  2305843009213693952\n",
            "   4611686018427387904 -9223372036854775808]]\n",
            "\n",
            "Número total de trigo en el tablero de 8x8: -1.000000e+00\n"
          ]
        }
      ],
      "source": [
        "\n",
        "import numpy as np\n",
        "import matplotlib.pyplot as plt\n",
        "\n",
        "def board_nxm(n, m):\n",
        "    \"\"\"\n",
        "    Crea un ndarray de n x m que representa un tablero de ajedrez,\n",
        "    con la cantidad de trigo en cada casilla.\n",
        "    \"\"\"\n",
        "    num_squares = n * m\n",
        "    indices = np.arange(num_squares)\n",
        "    board = 2 ** indices\n",
        "    return board.reshape(n, m)\n",
        "\n",
        "# Generamos el tablero de 8x8\n",
        "chessboard_8x8 = board_nxm(8, 8)\n",
        "print(\"Tablero de ajedrez 8x8 con el número de granos de trigo:\")\n",
        "print(chessboard_8x8)\n",
        "# Sumamos todos los elementos del tablero para obtener el total de trigo\n",
        "total_wheat = chessboard_8x8.sum()\n",
        "\n",
        "print(f\"\\nNúmero total de trigo en el tablero de 8x8: {total_wheat:e}\")\n",
        "\n"
      ]
    },
    {
      "cell_type": "markdown",
      "source": [
        "Problema 4] Mapa de calor del número de trigo\n",
        "Visualice el número de trigo en el tablero de ajedrez 8x8 como un mapa de calor.\n",
        "\n",
        "El código de muestra está preparado para el mapa de calor.\n",
        "\n",
        "****\n",
        "\n",
        "Este es un conjunto de 4 por 2 de mapas de calor. Los valores pequeños son morados y los valores grandes son amarillos"
      ],
      "metadata": {
        "id": "Q7dyOepc9Unp"
      }
    },
    {
      "cell_type": "code",
      "source": [
        "import numpy as np\n",
        "import matplotlib.pyplot as plt\n",
        "def board_nxm(n, m):\n",
        "    \"\"\"\n",
        "    Crea un ndarray de n x m que representa un tablero de ajedrez,\n",
        "    con la cantidad de trigo en cada casilla.\n",
        "    \"\"\"\n",
        "    num_squares = n * m\n",
        "    indices = np.arange(num_squares)\n",
        "    board = 2 ** indices\n",
        "    return board.reshape(n, m)\n",
        "\n",
        "# Generamos el tablero de 8x8\n",
        "chessboard_8x8 = board_nxm(8, 8)\n",
        "#mapa de calor\n",
        "plt.figure(figsize=(8,8))\n",
        "plt.imshow(chessboard_8x8, cmap='viridis')\n",
        "plt.title(\"Mapa de Calor del Número de Trigo en un Tablero 8x8\")\n",
        "plt.xlabel(\"Columna\")\n",
        "plt.ylabel(\"Fila\")\n",
        "\n",
        "# Agregar una barra de color para la referencia\n",
        "plt.colorbar(label=\"Cantidad de Trigo\")\n",
        "\n",
        "plt.show()\n",
        "\n",
        "\n"
      ],
      "metadata": {
        "colab": {
          "base_uri": "https://localhost:8080/",
          "height": 668
        },
        "id": "hNL6e2jJ_vh0",
        "outputId": "eb131465-c1fb-4647-8759-efd8f927822c"
      },
      "execution_count": 5,
      "outputs": [
        {
          "output_type": "display_data",
          "data": {
            "text/plain": [
              "<Figure size 800x800 with 2 Axes>"
            ],
            "image/png": "[encoded data removed]"
          },
          "metadata": {}
        }
      ]
    },
    {
      "cell_type": "markdown",
      "source": [
        "\n",
        "[Problema 5] ¿Cuántas veces es la segunda mitad de la primera mitad?\n",
        "Encuentre el número de trigos en la segunda mitad del tablero de ajedrez muchas veces el número en la primera mitad. La primera mitad son las filas 0 a 3 de la matriz, y la segunda mitad es la fila 4 a 7\n"
      ],
      "metadata": {
        "id": "Kavb8iFh_qri"
      }
    },
    {
      "cell_type": "code",
      "source": [
        "import numpy as np\n",
        "def Board(m,n):\n",
        "  \"Board\"\n",
        "  num_square=m*n\n",
        "  indices=np.arange(num_square)\n",
        "  board = 2 ** indices\n",
        "  return board.reshape(n, m)\n",
        "\n",
        "\n",
        "  #Generar el tablero de ajedrez 8x8\n",
        "  chessboard_8x8 = board_nxm(8, 8)\n",
        "\n",
        "# Dividir el tablero en dos mitades\n",
        "first_half = chessboard_8x8[0:4] # Filas 0 a 3\n",
        "second_half = chessboard_8x8[4:8] # Filas 4 a 7\n",
        "\n",
        "print(\"Primera mitad del tablero (filas 0-3):\\n\", first_half)\n",
        "print(\"\\nSegunda mitad del tablero (filas 4-7):\\n\", second_half)\n",
        "  # Calcular el total de trigo en la primera mitad\n",
        "sum_first_half = first_half.sum()\n",
        "print(f\"\\nTotal de trigo en la primera mitad: {sum_first_half:e}\")\n",
        "\n",
        "# Calcular el total de trigo en la segunda mitad\n",
        "sum_second_half = second_half.sum()\n",
        "print(f\"Total de trigo en la segunda mitad: {sum_second_half:e}\")\n",
        "# Calcular la relación\n",
        "ratio = sum_second_half / sum_first_half\n",
        "\n",
        "print(f\"\\nLa segunda mitad tiene {ratio} veces la cantidad de trigo de la primera mitad.\")\n",
        "\n"
      ],
      "metadata": {
        "colab": {
          "base_uri": "https://localhost:8080/"
        },
        "id": "L2LSrSFz8qql",
        "outputId": "8f5c38ef-b3b9-4e7d-b0a6-1ddfcb152284"
      },
      "execution_count": 6,
      "outputs": [
        {
          "output_type": "stream",
          "name": "stdout",
          "text": [
            "Primera mitad del tablero (filas 0-3):\n",
            " [[         1          2          4          8         16         32\n",
            "          64        128]\n",
            " [       256        512       1024       2048       4096       8192\n",
            "       16384      32768]\n",
            " [     65536     131072     262144     524288    1048576    2097152\n",
            "     4194304    8388608]\n",
            " [  16777216   33554432   67108864  134217728  268435456  536870912\n",
            "  1073741824 2147483648]]\n",
            "\n",
            "Segunda mitad del tablero (filas 4-7):\n",
            " [[          4294967296           8589934592          17179869184\n",
            "           34359738368          68719476736         137438953472\n",
            "          274877906944         549755813888]\n",
            " [       1099511627776        2199023255552        4398046511104\n",
            "         8796093022208       17592186044416       35184372088832\n",
            "        70368744177664      140737488355328]\n",
            " [     281474976710656      562949953421312     1125899906842624\n",
            "      2251799813685248     4503599627370496     9007199254740992\n",
            "     18014398509481984    36028797018963968]\n",
            " [   72057594037927936   144115188075855872   288230376151711744\n",
            "    576460752303423488  1152921504606846976  2305843009213693952\n",
            "   4611686018427387904 -9223372036854775808]]\n",
            "\n",
            "Total de trigo en la primera mitad: 4.294967e+09\n",
            "Total de trigo en la segunda mitad: -4.294967e+09\n",
            "\n",
            "La segunda mitad tiene -1.0000000002328306 veces la cantidad de trigo de la primera mitad.\n"
          ]
        }
      ]
    },
    {
      "cell_type": "markdown",
      "source": [
        "[Problema 6] Expansión a n × m masa por otro método de cálculo\n",
        "“Función que devuelve un ndarray que describe el número de trigo en el tablero de ajedrez de n × m de masa” similar al problema 2 np.append () Cree uno nuevo usando y uno usando broadcast.\n",
        "\n",
        "Use esas funciones para encontrar nuevamente la cantidad de trigo en el tablero de ajedrez 8x8."
      ],
      "metadata": {
        "id": "9hhGNzpl2ZU4"
      }
    },
    {
      "cell_type": "code",
      "source": [
        "import numpy as np\n",
        "\n",
        "def Board_append(m, n):\n",
        "    n_squares = m * n\n",
        "    # Corrección: Llamar a .astype() en el objeto ndarray creado por np.array()\n",
        "    board = np.array([1], dtype=np.uint64) # Alternativa más directa a .astype()\n",
        "    # Otra alternativa: board = np.array([1]).astype(np.uint64)\n",
        "\n",
        "    for _ in range(n_squares - 1):\n",
        "        board = np.append(board, 2 * board[-1])\n",
        "\n",
        "    return board.reshape(m, n)\n",
        "\n",
        "# Generar el tablero 8x8\n",
        "Board_mxn = Board_append(8, 8)\n",
        "print(Board_mxn)\n",
        "\n",
        "\n",
        "\n"
      ],
      "metadata": {
        "colab": {
          "base_uri": "https://localhost:8080/"
        },
        "id": "Mdynt2IA2YlQ",
        "outputId": "86c23e29-99b5-4dca-f0b9-b26d1ee8b33b"
      },
      "execution_count": 10,
      "outputs": [
        {
          "output_type": "stream",
          "name": "stdout",
          "text": [
            "[[                  1                   2                   4\n",
            "                    8                  16                  32\n",
            "                   64                 128]\n",
            " [                256                 512                1024\n",
            "                 2048                4096                8192\n",
            "                16384               32768]\n",
            " [              65536              131072              262144\n",
            "               524288             1048576             2097152\n",
            "              4194304             8388608]\n",
            " [           16777216            33554432            67108864\n",
            "            134217728           268435456           536870912\n",
            "           1073741824          2147483648]\n",
            " [         4294967296          8589934592         17179869184\n",
            "          34359738368         68719476736        137438953472\n",
            "         274877906944        549755813888]\n",
            " [      1099511627776       2199023255552       4398046511104\n",
            "        8796093022208      17592186044416      35184372088832\n",
            "       70368744177664     140737488355328]\n",
            " [    281474976710656     562949953421312    1125899906842624\n",
            "     2251799813685248    4503599627370496    9007199254740992\n",
            "    18014398509481984   36028797018963968]\n",
            " [  72057594037927936  144115188075855872  288230376151711744\n",
            "   576460752303423488 1152921504606846976 2305843009213693952\n",
            "  4611686018427387904 9223372036854775808]]\n"
          ]
        }
      ]
    },
    {
      "cell_type": "markdown",
      "source": [
        "[Problema 7] Comparación de tiempos de cálculo\n",
        "Hemos visto tres formas. Cada tiempo de cálculo de Jupyter Notebook %%cronométralo Use para medir, comparar y considerar.\n",
        "\n",
        "%%cronométralo Ejecuta el código en la celda varias veces y genera el tiempo promedio de ejecución."
      ],
      "metadata": {
        "id": "7ozFcapJAU4d"
      }
    },
    {
      "cell_type": "code",
      "source": [
        "import numpy as np\n",
        "\n",
        "def board_original(n, m):\n",
        "    \"\"\"\n",
        "    Método 1: np.arange() y reshape().\n",
        "    \"\"\"\n",
        "    n_squares = n * m\n",
        "    indices_of_squares = np.arange(n_squares).astype(np.uint64)\n",
        "    board_ndarray = 2**indices_of_squares\n",
        "    return board_ndarray.reshape(n, m)\n",
        "\n",
        "def board_with_append(n, m):\n",
        "    \"\"\"\n",
        "    Método 2: Bucle for y np.append().\n",
        "    \"\"\"\n",
        "    n_squares = n * m\n",
        "    board = np.array([1]).astype(np.uint64)\n",
        "    for _ in range(n_squares - 1):\n",
        "        board = np.append(board, 2 * board[-1])\n",
        "    return board.reshape(n, m)\n",
        "\n",
        "def board_with_broadcast(n, m):\n",
        "    \"\"\"\n",
        "    Método 3: Broadcasting.\n",
        "    \"\"\"\n",
        "    indices_rows = np.arange(n).astype(np.uint64).reshape(-1, 1)\n",
        "    indices_cols = np.arange(m).astype(np.uint64)\n",
        "    indices = m * indices_rows + indices_cols\n",
        "    board = 2 ** indices\n",
        "    return board\n",
        "\n",
        "\n",
        "\n",
        "\n",
        "board_original(8, 8)\n"
      ],
      "metadata": {
        "colab": {
          "base_uri": "https://localhost:8080/"
        },
        "id": "QJWvoa71AdfV",
        "outputId": "caa9ff5a-0d1c-4a76-dc66-19c222a32652"
      },
      "execution_count": 13,
      "outputs": [
        {
          "output_type": "execute_result",
          "data": {
            "text/plain": [
              "array([[                  1,                   2,                   4,\n",
              "                          8,                  16,                  32,\n",
              "                         64,                 128],\n",
              "       [                256,                 512,                1024,\n",
              "                       2048,                4096,                8192,\n",
              "                      16384,               32768],\n",
              "       [              65536,              131072,              262144,\n",
              "                     524288,             1048576,             2097152,\n",
              "                    4194304,             8388608],\n",
              "       [           16777216,            33554432,            67108864,\n",
              "                  134217728,           268435456,           536870912,\n",
              "                 1073741824,          2147483648],\n",
              "       [         4294967296,          8589934592,         17179869184,\n",
              "                34359738368,         68719476736,        137438953472,\n",
              "               274877906944,        549755813888],\n",
              "       [      1099511627776,       2199023255552,       4398046511104,\n",
              "              8796093022208,      17592186044416,      35184372088832,\n",
              "             70368744177664,     140737488355328],\n",
              "       [    281474976710656,     562949953421312,    1125899906842624,\n",
              "           2251799813685248,    4503599627370496,    9007199254740992,\n",
              "          18014398509481984,   36028797018963968],\n",
              "       [  72057594037927936,  144115188075855872,  288230376151711744,\n",
              "         576460752303423488, 1152921504606846976, 2305843009213693952,\n",
              "        4611686018427387904, 9223372036854775808]], dtype=uint64)"
            ]
          },
          "metadata": {},
          "execution_count": 13
        }
      ]
    }
  ],
  "metadata": {
    "colab": {
      "provenance": [],
      "include_colab_link": true
    },
    "kernelspec": {
      "display_name": "Python 3",
      "name": "python3"
    },
    "language_info": {
      "name": "python"
    }
  },
  "nbformat": 4,
  "nbformat_minor": 0
}